{
 "cells": [
  {
   "cell_type": "code",
   "execution_count": 35,
   "metadata": {},
   "outputs": [],
   "source": [
    "def normalize(X): \n",
    "     \n",
    "    #function to normalize feature matrix, X \n",
    "    \n",
    "    mins = np.min(X, axis = 0) \n",
    "    maxs = np.max(X, axis = 0) \n",
    "    rng = maxs - mins \n",
    "    norm_X = 1 - ((maxs - X)/rng) \n",
    "    return norm_X "
   ]
  },
  {
   "cell_type": "code",
   "execution_count": 36,
   "metadata": {},
   "outputs": [
    {
     "name": "stdout",
     "output_type": "stream",
     "text": [
      "\n",
      "\n",
      "[[1.         1.         0.02380952 0.02962963]\n",
      " [1.         1.         0.4047619  0.03703704]\n",
      " [1.         0.         0.19047619 0.20740741]\n",
      " ...\n",
      " [1.         0.         0.76190476 0.03703704]\n",
      " [1.         1.         0.42857143 0.13333333]\n",
      " [1.         0.         0.73809524 0.15555556]]\n",
      "Logistic Regression model accuracy(in %): 81.25\n"
     ]
    }
   ],
   "source": [
    "from sklearn import datasets, linear_model, metrics\n",
    "import csv \n",
    "import numpy as np \n",
    "import matplotlib.pyplot as plt \n",
    "import pandas as pd \n",
    "dataset = pd.read_csv('E:\\College\\Social_Network_Ads.csv')\n",
    "dataset = pd.DataFrame(dataset)\n",
    "dataset = dataset.drop(columns = ['User ID'])\n",
    "dataset['Gender'] = dataset['Gender'].replace({'Female': 0, 'Male': 1})\n",
    "dataset=np.array(dataset) \n",
    "X = normalize(dataset[:, :-1]) \n",
    "    \n",
    "      \n",
    "# stacking columns wth all ones in feature matrix \n",
    "X = np.hstack((np.matrix(np.ones(X.shape[0])).T, X))\n",
    "print('\\n')\n",
    "print(X)\n",
    "\n",
    "# response vector \n",
    "y = dataset[:, -1] \n",
    "# splitting X and y into training and testing sets\n",
    "from sklearn.model_selection import train_test_split\n",
    "X_train, X_test, y_train, y_test = train_test_split(X, y, test_size=0.4,\n",
    "                                                    random_state=1)\n",
    " \n",
    "# create logistic regression object\n",
    "reg = linear_model.LogisticRegression()\n",
    " \n",
    "# train the model using the training sets\n",
    "reg.fit(X_train, y_train)\n",
    "\n",
    "# making predictions on the testing set\n",
    "y_pred = reg.predict(X_test)\n",
    " \n",
    "# comparing actual response values (y_test) with predicted response values (y_pred)\n",
    "print(\"Logistic Regression model accuracy(in %):\", metrics.accuracy_score(y_test, y_pred)*100)"
   ]
  },
  {
   "cell_type": "code",
   "execution_count": 37,
   "metadata": {},
   "outputs": [
    {
     "data": {
      "text/plain": [
       "array([[    1,    19, 19000,     0],\n",
       "       [    1,    35, 20000,     0],\n",
       "       [    0,    26, 43000,     0],\n",
       "       ...,\n",
       "       [    0,    50, 20000,     1],\n",
       "       [    1,    36, 33000,     0],\n",
       "       [    0,    49, 36000,     1]], dtype=int64)"
      ]
     },
     "execution_count": 37,
     "metadata": {},
     "output_type": "execute_result"
    }
   ],
   "source": [
    "dataset"
   ]
  },
  {
   "cell_type": "code",
   "execution_count": 38,
   "metadata": {},
   "outputs": [
    {
     "name": "stdout",
     "output_type": "stream",
     "text": [
      "              precision    recall  f1-score   support\n",
      "\n",
      "           0       0.79      0.91      0.85        81\n",
      "           1       0.82      0.61      0.70        51\n",
      "\n",
      "    accuracy                           0.80       132\n",
      "   macro avg       0.80      0.76      0.77       132\n",
      "weighted avg       0.80      0.80      0.79       132\n",
      "\n",
      "[[74  7]\n",
      " [20 31]]\n",
      "0.7954545454545454\n"
     ]
    }
   ],
   "source": [
    "from sklearn.model_selection import train_test_split\n",
    "from sklearn.linear_model import LogisticRegression\n",
    "from sklearn.metrics import classification_report\n",
    "from sklearn.metrics import confusion_matrix,accuracy_score\n",
    "x_train, x_test, y_train, y_test = train_test_split(X, y, test_size=0.33, random_state=1)\n",
    "logmodel = LogisticRegression()\n",
    "logmodel.fit(x_train, y_train)\n",
    " \n",
    "predictions = logmodel.predict(x_test)\n",
    "print(classification_report(y_test, predictions))\n",
    "print(confusion_matrix(y_test, predictions))\n",
    "print(accuracy_score(y_test, predictions))"
   ]
  },
  {
   "cell_type": "code",
   "execution_count": 39,
   "metadata": {},
   "outputs": [
    {
     "name": "stdout",
     "output_type": "stream",
     "text": [
      "Logistic Regression model accuracy(in %): 96.52294853963839\n"
     ]
    },
    {
     "name": "stderr",
     "output_type": "stream",
     "text": [
      "C:\\Users\\manas\\Anaconda3\\lib\\site-packages\\sklearn\\linear_model\\_logistic.py:764: ConvergenceWarning: lbfgs failed to converge (status=1):\n",
      "STOP: TOTAL NO. of ITERATIONS REACHED LIMIT.\n",
      "\n",
      "Increase the number of iterations (max_iter) or scale the data as shown in:\n",
      "    https://scikit-learn.org/stable/modules/preprocessing.html\n",
      "Please also refer to the documentation for alternative solver options:\n",
      "    https://scikit-learn.org/stable/modules/linear_model.html#logistic-regression\n",
      "  extra_warning_msg=_LOGISTIC_SOLVER_CONVERGENCE_MSG)\n"
     ]
    }
   ],
   "source": [
    "from sklearn import datasets, linear_model, metrics\n",
    " \n",
    "# load the digit dataset\n",
    "digits = datasets.load_digits()\n",
    " \n",
    "# defining feature matrix(X) and response vector(y)\n",
    "X = digits.data\n",
    "y = digits.target\n",
    "\n",
    "# splitting X and y into training and testing sets\n",
    "from sklearn.model_selection import train_test_split\n",
    "X_train, X_test, y_train, y_test = train_test_split(X, y, test_size=0.4,\n",
    "                                                    random_state=1)\n",
    " \n",
    "# create logistic regression object\n",
    "reg = linear_model.LogisticRegression()\n",
    " \n",
    "# train the model using the training sets\n",
    "reg.fit(X_train, y_train)\n",
    "\n",
    "# making predictions on the testing set\n",
    "y_pred = reg.predict(X_test)\n",
    " \n",
    "# comparing actual response values (y_test) with predicted response values (y_pred)\n",
    "print(\"Logistic Regression model accuracy(in %):\", metrics.accuracy_score(y_test, y_pred)*100)"
   ]
  },
  {
   "cell_type": "code",
   "execution_count": 40,
   "metadata": {},
   "outputs": [
    {
     "name": "stdout",
     "output_type": "stream",
     "text": [
      "              precision    recall  f1-score   support\n",
      "\n",
      "           0       1.00      1.00      1.00        63\n",
      "           1       0.95      0.95      0.95        59\n",
      "           2       0.98      1.00      0.99        55\n",
      "           3       0.97      0.96      0.96        68\n",
      "           4       0.97      0.98      0.98        66\n",
      "           5       0.96      0.90      0.93        52\n",
      "           6       1.00      1.00      1.00        54\n",
      "           7       0.98      0.95      0.97        62\n",
      "           8       0.89      0.98      0.93        51\n",
      "           9       0.95      0.94      0.94        64\n",
      "\n",
      "    accuracy                           0.97       594\n",
      "   macro avg       0.97      0.97      0.97       594\n",
      "weighted avg       0.97      0.97      0.97       594\n",
      "\n",
      "[[63  0  0  0  0  0  0  0  0  0]\n",
      " [ 0 56  0  0  1  0  0  0  2  0]\n",
      " [ 0  0 55  0  0  0  0  0  0  0]\n",
      " [ 0  0  0 65  0  0  0  1  2  0]\n",
      " [ 0  1  0  0 65  0  0  0  0  0]\n",
      " [ 0  1  1  1  0 47  0  0  0  2]\n",
      " [ 0  0  0  0  0  0 54  0  0  0]\n",
      " [ 0  0  0  1  1  0  0 59  0  1]\n",
      " [ 0  0  0  0  0  1  0  0 50  0]\n",
      " [ 0  1  0  0  0  1  0  0  2 60]]\n",
      "0.9663299663299664\n"
     ]
    },
    {
     "name": "stderr",
     "output_type": "stream",
     "text": [
      "C:\\Users\\manas\\Anaconda3\\lib\\site-packages\\sklearn\\linear_model\\_logistic.py:764: ConvergenceWarning: lbfgs failed to converge (status=1):\n",
      "STOP: TOTAL NO. of ITERATIONS REACHED LIMIT.\n",
      "\n",
      "Increase the number of iterations (max_iter) or scale the data as shown in:\n",
      "    https://scikit-learn.org/stable/modules/preprocessing.html\n",
      "Please also refer to the documentation for alternative solver options:\n",
      "    https://scikit-learn.org/stable/modules/linear_model.html#logistic-regression\n",
      "  extra_warning_msg=_LOGISTIC_SOLVER_CONVERGENCE_MSG)\n"
     ]
    }
   ],
   "source": [
    "from sklearn.model_selection import train_test_split\n",
    "from sklearn.linear_model import LogisticRegression\n",
    "from sklearn.metrics import classification_report\n",
    "from sklearn.metrics import confusion_matrix,accuracy_score\n",
    "x_train, x_test, y_train, y_test = train_test_split(X, y, test_size=0.33, random_state=1)\n",
    "logmodel = LogisticRegression()\n",
    "logmodel.fit(x_train, y_train)\n",
    " \n",
    "predictions = logmodel.predict(x_test)\n",
    "print(classification_report(y_test, predictions))\n",
    "print(confusion_matrix(y_test, predictions))\n",
    "print(accuracy_score(y_test, predictions))"
   ]
  },
  {
   "cell_type": "code",
   "execution_count": 41,
   "metadata": {},
   "outputs": [
    {
     "name": "stdout",
     "output_type": "stream",
     "text": [
      "[[63  0  0  0  0  0  0  0  0  0]\n",
      " [ 0 56  0  0  1  0  0  0  2  0]\n",
      " [ 0  0 55  0  0  0  0  0  0  0]\n",
      " [ 0  0  0 65  0  0  0  1  2  0]\n",
      " [ 0  1  0  0 65  0  0  0  0  0]\n",
      " [ 0  1  1  1  0 47  0  0  0  2]\n",
      " [ 0  0  0  0  0  0 54  0  0  0]\n",
      " [ 0  0  0  1  1  0  0 59  0  1]\n",
      " [ 0  0  0  0  0  1  0  0 50  0]\n",
      " [ 0  1  0  0  0  1  0  0  2 60]]\n"
     ]
    }
   ],
   "source": [
    "print(confusion_matrix(y_test, predictions))\n"
   ]
  },
  {
   "cell_type": "code",
   "execution_count": null,
   "metadata": {},
   "outputs": [],
   "source": []
  }
 ],
 "metadata": {
  "kernelspec": {
   "display_name": "Python 3",
   "language": "python",
   "name": "python3"
  },
  "language_info": {
   "codemirror_mode": {
    "name": "ipython",
    "version": 3
   },
   "file_extension": ".py",
   "mimetype": "text/x-python",
   "name": "python",
   "nbconvert_exporter": "python",
   "pygments_lexer": "ipython3",
   "version": "3.7.6"
  }
 },
 "nbformat": 4,
 "nbformat_minor": 4
}
