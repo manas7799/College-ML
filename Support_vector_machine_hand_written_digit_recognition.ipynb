{
  "nbformat": 4,
  "nbformat_minor": 0,
  "metadata": {
    "colab": {
      "name": "P3. hand written digit recognition.ipynb",
      "provenance": []
    },
    "kernelspec": {
      "name": "python3",
      "display_name": "Python 3"
    },
    "language_info": {
      "name": "python"
    }
  },
  "cells": [
    {
      "cell_type": "code",
      "metadata": {
        "id": "xSJdoJvimCJx"
      },
      "source": [
        "import numpy as np\n",
        "from sklearn.datasets import load_digits"
      ],
      "execution_count": 2,
      "outputs": []
    },
    {
      "cell_type": "code",
      "metadata": {
        "id": "nvKWBpKsmNpS"
      },
      "source": [
        "dataset =load_digits()"
      ],
      "execution_count": 3,
      "outputs": []
    },
    {
      "cell_type": "code",
      "metadata": {
        "colab": {
          "base_uri": "https://localhost:8080/"
        },
        "id": "YVDnuUsCmiFx",
        "outputId": "b4a964bf-de6a-463a-9f28-464ac78bfa87"
      },
      "source": [
        "print(dataset.data)\n",
        "print(dataset.target)\n",
        "dataimageLength = len(dataset.images)\n",
        "print(dataimageLength)\n",
        "dataset.images.shape"
      ],
      "execution_count": 14,
      "outputs": [
        {
          "output_type": "stream",
          "text": [
            "[[ 0.  0.  5. ...  0.  0.  0.]\n",
            " [ 0.  0.  0. ... 10.  0.  0.]\n",
            " [ 0.  0.  0. ... 16.  9.  0.]\n",
            " ...\n",
            " [ 0.  0.  1. ...  6.  0.  0.]\n",
            " [ 0.  0.  2. ... 12.  0.  0.]\n",
            " [ 0.  0. 10. ... 12.  1.  0.]]\n",
            "[0 1 2 ... 8 9 8]\n",
            "1797\n"
          ],
          "name": "stdout"
        },
        {
          "output_type": "execute_result",
          "data": {
            "text/plain": [
              "(1797, 8, 8)"
            ]
          },
          "metadata": {
            "tags": []
          },
          "execution_count": 14
        }
      ]
    },
    {
      "cell_type": "code",
      "metadata": {
        "colab": {
          "base_uri": "https://localhost:8080/",
          "height": 292
        },
        "id": "3wxe5A8Gmj2c",
        "outputId": "d2bc5129-101e-4ece-a48d-4c6324804975"
      },
      "source": [
        "import matplotlib.pyplot as plt\n",
        "plt.gray()\n",
        "n=4\n",
        "plt.matshow(dataset.images[n])\n",
        "plt.show()\n"
      ],
      "execution_count": 21,
      "outputs": [
        {
          "output_type": "display_data",
          "data": {
            "text/plain": [
              "<Figure size 432x288 with 0 Axes>"
            ]
          },
          "metadata": {
            "tags": []
          }
        },
        {
          "output_type": "display_data",
          "data": {
            "image/png": "[encoded data removed]",
            "text/plain": [
              "<Figure size 288x288 with 1 Axes>"
            ]
          },
          "metadata": {
            "tags": [],
            "needs_background": "light"
          }
        }
      ]
    },
    {
      "cell_type": "code",
      "metadata": {
        "colab": {
          "base_uri": "https://localhost:8080/"
        },
        "id": "WiKMBR5-npBe",
        "outputId": "25c896e2-2cd3-460c-8713-6e52c2d4f930"
      },
      "source": [
        "dataset.images[n]"
      ],
      "execution_count": 22,
      "outputs": [
        {
          "output_type": "execute_result",
          "data": {
            "text/plain": [
              "array([[ 0.,  0.,  0.,  1., 11.,  0.,  0.,  0.],\n",
              "       [ 0.,  0.,  0.,  7.,  8.,  0.,  0.,  0.],\n",
              "       [ 0.,  0.,  1., 13.,  6.,  2.,  2.,  0.],\n",
              "       [ 0.,  0.,  7., 15.,  0.,  9.,  8.,  0.],\n",
              "       [ 0.,  5., 16., 10.,  0., 16.,  6.,  0.],\n",
              "       [ 0.,  4., 15., 16., 13., 16.,  1.,  0.],\n",
              "       [ 0.,  0.,  0.,  3., 15., 10.,  0.,  0.],\n",
              "       [ 0.,  0.,  0.,  2., 16.,  4.,  0.,  0.]])"
            ]
          },
          "metadata": {
            "tags": []
          },
          "execution_count": 22
        }
      ]
    },
    {
      "cell_type": "code",
      "metadata": {
        "colab": {
          "base_uri": "https://localhost:8080/"
        },
        "id": "yd9nnB05oOfX",
        "outputId": "0a2f2cd7-22c0-4ff4-a548-d7cbaee2036c"
      },
      "source": [
        "X = dataset.images.reshape((dataimageLength,-1))\n",
        "X"
      ],
      "execution_count": 24,
      "outputs": [
        {
          "output_type": "execute_result",
          "data": {
            "text/plain": [
              "array([[ 0.,  0.,  5., ...,  0.,  0.,  0.],\n",
              "       [ 0.,  0.,  0., ..., 10.,  0.,  0.],\n",
              "       [ 0.,  0.,  0., ..., 16.,  9.,  0.],\n",
              "       ...,\n",
              "       [ 0.,  0.,  1., ...,  6.,  0.,  0.],\n",
              "       [ 0.,  0.,  2., ..., 12.,  0.,  0.],\n",
              "       [ 0.,  0., 10., ..., 12.,  1.,  0.]])"
            ]
          },
          "metadata": {
            "tags": []
          },
          "execution_count": 24
        }
      ]
    },
    {
      "cell_type": "code",
      "metadata": {
        "colab": {
          "base_uri": "https://localhost:8080/"
        },
        "id": "h6ujEskOoqRd",
        "outputId": "b79192aa-c003-49a3-cde0-93d4402d8d8e"
      },
      "source": [
        "Y =dataset.target\n",
        "Y"
      ],
      "execution_count": 25,
      "outputs": [
        {
          "output_type": "execute_result",
          "data": {
            "text/plain": [
              "array([0, 1, 2, ..., 8, 9, 8])"
            ]
          },
          "metadata": {
            "tags": []
          },
          "execution_count": 25
        }
      ]
    },
    {
      "cell_type": "code",
      "metadata": {
        "colab": {
          "base_uri": "https://localhost:8080/"
        },
        "id": "k-Ntcinyo3nI",
        "outputId": "aa104011-f3ee-4306-ac79-da276a2afd28"
      },
      "source": [
        "from sklearn.model_selection import train_test_split\n",
        "X_train, X_test, y_train, y_test=train_test_split(X,Y,test_size=0.25,random_state=0)\n",
        "print(X_train.shape)\n",
        "print(X_test.shape)"
      ],
      "execution_count": 26,
      "outputs": [
        {
          "output_type": "stream",
          "text": [
            "(1347, 64)\n",
            "(450, 64)\n"
          ],
          "name": "stdout"
        }
      ]
    },
    {
      "cell_type": "code",
      "metadata": {
        "colab": {
          "base_uri": "https://localhost:8080/"
        },
        "id": "deL5hk7ApokL",
        "outputId": "350d8b84-2085-4365-ebc2-60729f133ba0"
      },
      "source": [
        "from sklearn import svm\n",
        "model=svm.SVC(kernel='linear')\n",
        "model.fit(X_train,y_train)"
      ],
      "execution_count": 30,
      "outputs": [
        {
          "output_type": "execute_result",
          "data": {
            "text/plain": [
              "SVC(C=1.0, break_ties=False, cache_size=200, class_weight=None, coef0=0.0,\n",
              "    decision_function_shape='ovr', degree=3, gamma='scale', kernel='linear',\n",
              "    max_iter=-1, probability=False, random_state=None, shrinking=True,\n",
              "    tol=0.001, verbose=False)"
            ]
          },
          "metadata": {
            "tags": []
          },
          "execution_count": 30
        }
      ]
    },
    {
      "cell_type": "code",
      "metadata": {
        "colab": {
          "base_uri": "https://localhost:8080/",
          "height": 314
        },
        "id": "qzG1t_g3p5FH",
        "outputId": "c3aea089-b49d-44d8-f40c-864d5025133e"
      },
      "source": [
        "n=7\n",
        "result =model.predict(dataset.images[n].reshape((1,-1)))\n",
        "plt.imshow(dataset.images[n],cmap=plt.cm.gray_r,interpolation='nearest')\n",
        "print(result)\n",
        "print(\"\\n\")\n",
        "plt.axis('off')\n",
        "plt.title('%i'%result)\n",
        "plt.show()"
      ],
      "execution_count": 40,
      "outputs": [
        {
          "output_type": "stream",
          "text": [
            "[7]\n",
            "\n",
            "\n"
          ],
          "name": "stdout"
        },
        {
          "output_type": "display_data",
          "data": {
            "image/png": "[encoded data removed]",
            "text/plain": [
              "<Figure size 432x288 with 1 Axes>"
            ]
          },
          "metadata": {
            "tags": [],
            "needs_background": "light"
          }
        }
      ]
    },
    {
      "cell_type": "code",
      "metadata": {
        "colab": {
          "base_uri": "https://localhost:8080/"
        },
        "id": "xmWS3p2nqqI4",
        "outputId": "68def96f-2914-47bd-d753-7cb885ec5660"
      },
      "source": [
        "y_pred = model.predict(X_test)\n",
        "print(np.concatenate((y_pred.reshape(len(y_pred),1),y_test.reshape(len(y_test),1)),1))"
      ],
      "execution_count": 41,
      "outputs": [
        {
          "output_type": "stream",
          "text": [
            "[[2 2]\n",
            " [8 8]\n",
            " [2 2]\n",
            " [6 6]\n",
            " [6 6]\n",
            " [7 7]\n",
            " [1 1]\n",
            " [9 9]\n",
            " [8 8]\n",
            " [5 5]\n",
            " [2 2]\n",
            " [8 8]\n",
            " [6 6]\n",
            " [6 6]\n",
            " [6 6]\n",
            " [6 6]\n",
            " [1 1]\n",
            " [0 0]\n",
            " [5 5]\n",
            " [8 8]\n",
            " [8 8]\n",
            " [7 7]\n",
            " [8 8]\n",
            " [4 4]\n",
            " [7 7]\n",
            " [5 5]\n",
            " [4 4]\n",
            " [9 9]\n",
            " [2 2]\n",
            " [9 9]\n",
            " [4 4]\n",
            " [7 7]\n",
            " [6 6]\n",
            " [8 8]\n",
            " [9 9]\n",
            " [4 4]\n",
            " [3 3]\n",
            " [1 1]\n",
            " [0 0]\n",
            " [1 1]\n",
            " [8 8]\n",
            " [6 6]\n",
            " [7 7]\n",
            " [7 7]\n",
            " [1 1]\n",
            " [0 0]\n",
            " [7 7]\n",
            " [6 6]\n",
            " [2 2]\n",
            " [1 1]\n",
            " [9 9]\n",
            " [6 6]\n",
            " [7 7]\n",
            " [9 9]\n",
            " [0 0]\n",
            " [0 0]\n",
            " [5 5]\n",
            " [1 1]\n",
            " [6 6]\n",
            " [3 3]\n",
            " [0 0]\n",
            " [2 2]\n",
            " [3 3]\n",
            " [4 4]\n",
            " [1 1]\n",
            " [9 9]\n",
            " [2 2]\n",
            " [6 6]\n",
            " [9 9]\n",
            " [1 1]\n",
            " [8 8]\n",
            " [3 3]\n",
            " [5 5]\n",
            " [1 1]\n",
            " [2 2]\n",
            " [8 8]\n",
            " [2 2]\n",
            " [2 2]\n",
            " [9 9]\n",
            " [7 7]\n",
            " [2 2]\n",
            " [3 3]\n",
            " [6 6]\n",
            " [0 0]\n",
            " [5 5]\n",
            " [3 3]\n",
            " [7 7]\n",
            " [5 5]\n",
            " [1 1]\n",
            " [2 2]\n",
            " [9 9]\n",
            " [9 9]\n",
            " [3 3]\n",
            " [1 1]\n",
            " [7 7]\n",
            " [7 7]\n",
            " [4 4]\n",
            " [8 8]\n",
            " [5 5]\n",
            " [8 8]\n",
            " [5 5]\n",
            " [5 5]\n",
            " [2 2]\n",
            " [5 5]\n",
            " [9 9]\n",
            " [0 0]\n",
            " [7 7]\n",
            " [1 1]\n",
            " [4 4]\n",
            " [4 7]\n",
            " [3 3]\n",
            " [4 4]\n",
            " [8 8]\n",
            " [9 9]\n",
            " [7 7]\n",
            " [9 9]\n",
            " [8 8]\n",
            " [2 2]\n",
            " [1 6]\n",
            " [5 5]\n",
            " [2 2]\n",
            " [5 5]\n",
            " [8 8]\n",
            " [4 4]\n",
            " [1 8]\n",
            " [7 7]\n",
            " [0 0]\n",
            " [6 6]\n",
            " [1 1]\n",
            " [5 5]\n",
            " [5 9]\n",
            " [9 9]\n",
            " [9 9]\n",
            " [5 5]\n",
            " [9 9]\n",
            " [9 9]\n",
            " [5 5]\n",
            " [7 7]\n",
            " [5 5]\n",
            " [6 6]\n",
            " [2 2]\n",
            " [8 8]\n",
            " [6 6]\n",
            " [9 9]\n",
            " [6 6]\n",
            " [1 1]\n",
            " [5 5]\n",
            " [1 1]\n",
            " [5 5]\n",
            " [9 9]\n",
            " [9 9]\n",
            " [1 1]\n",
            " [5 5]\n",
            " [3 3]\n",
            " [6 6]\n",
            " [1 1]\n",
            " [8 8]\n",
            " [9 9]\n",
            " [8 8]\n",
            " [7 7]\n",
            " [6 6]\n",
            " [7 7]\n",
            " [6 6]\n",
            " [5 5]\n",
            " [6 6]\n",
            " [0 0]\n",
            " [8 8]\n",
            " [8 8]\n",
            " [9 9]\n",
            " [8 8]\n",
            " [6 6]\n",
            " [1 1]\n",
            " [0 0]\n",
            " [4 4]\n",
            " [1 1]\n",
            " [6 6]\n",
            " [3 3]\n",
            " [8 8]\n",
            " [6 6]\n",
            " [7 7]\n",
            " [4 4]\n",
            " [9 5]\n",
            " [6 6]\n",
            " [3 3]\n",
            " [0 0]\n",
            " [3 3]\n",
            " [3 3]\n",
            " [3 3]\n",
            " [0 0]\n",
            " [7 7]\n",
            " [7 7]\n",
            " [5 5]\n",
            " [7 7]\n",
            " [8 8]\n",
            " [0 0]\n",
            " [7 7]\n",
            " [1 8]\n",
            " [9 9]\n",
            " [6 6]\n",
            " [4 4]\n",
            " [5 5]\n",
            " [0 0]\n",
            " [1 1]\n",
            " [4 4]\n",
            " [6 6]\n",
            " [4 4]\n",
            " [3 3]\n",
            " [3 3]\n",
            " [0 0]\n",
            " [9 9]\n",
            " [5 5]\n",
            " [3 9]\n",
            " [2 2]\n",
            " [1 1]\n",
            " [4 4]\n",
            " [2 2]\n",
            " [1 1]\n",
            " [6 6]\n",
            " [8 8]\n",
            " [9 9]\n",
            " [2 2]\n",
            " [4 4]\n",
            " [9 9]\n",
            " [3 3]\n",
            " [7 7]\n",
            " [6 6]\n",
            " [2 2]\n",
            " [3 3]\n",
            " [3 3]\n",
            " [1 1]\n",
            " [6 6]\n",
            " [9 9]\n",
            " [3 3]\n",
            " [6 6]\n",
            " [3 3]\n",
            " [2 2]\n",
            " [2 2]\n",
            " [0 0]\n",
            " [7 7]\n",
            " [6 6]\n",
            " [1 1]\n",
            " [1 1]\n",
            " [9 9]\n",
            " [7 7]\n",
            " [2 2]\n",
            " [7 7]\n",
            " [8 8]\n",
            " [5 5]\n",
            " [5 5]\n",
            " [7 7]\n",
            " [5 5]\n",
            " [2 2]\n",
            " [3 3]\n",
            " [7 7]\n",
            " [2 2]\n",
            " [7 7]\n",
            " [5 5]\n",
            " [5 5]\n",
            " [7 7]\n",
            " [0 0]\n",
            " [9 9]\n",
            " [1 1]\n",
            " [6 6]\n",
            " [5 5]\n",
            " [9 9]\n",
            " [7 7]\n",
            " [4 4]\n",
            " [3 3]\n",
            " [8 8]\n",
            " [0 0]\n",
            " [3 3]\n",
            " [6 6]\n",
            " [4 4]\n",
            " [6 6]\n",
            " [3 3]\n",
            " [2 2]\n",
            " [6 6]\n",
            " [8 8]\n",
            " [8 8]\n",
            " [8 8]\n",
            " [4 4]\n",
            " [6 6]\n",
            " [7 7]\n",
            " [5 5]\n",
            " [2 2]\n",
            " [4 4]\n",
            " [5 5]\n",
            " [3 3]\n",
            " [2 2]\n",
            " [4 4]\n",
            " [6 6]\n",
            " [9 9]\n",
            " [4 4]\n",
            " [5 5]\n",
            " [4 4]\n",
            " [3 3]\n",
            " [4 4]\n",
            " [6 6]\n",
            " [2 2]\n",
            " [9 9]\n",
            " [0 0]\n",
            " [1 1]\n",
            " [7 7]\n",
            " [2 2]\n",
            " [0 0]\n",
            " [9 9]\n",
            " [6 6]\n",
            " [0 0]\n",
            " [4 4]\n",
            " [2 2]\n",
            " [0 0]\n",
            " [7 7]\n",
            " [9 9]\n",
            " [8 8]\n",
            " [5 5]\n",
            " [4 4]\n",
            " [8 8]\n",
            " [2 2]\n",
            " [8 8]\n",
            " [4 4]\n",
            " [3 3]\n",
            " [7 7]\n",
            " [2 2]\n",
            " [6 6]\n",
            " [9 9]\n",
            " [1 1]\n",
            " [5 5]\n",
            " [1 1]\n",
            " [0 0]\n",
            " [8 8]\n",
            " [2 2]\n",
            " [8 1]\n",
            " [9 9]\n",
            " [5 5]\n",
            " [6 6]\n",
            " [2 8]\n",
            " [2 2]\n",
            " [7 7]\n",
            " [2 2]\n",
            " [1 1]\n",
            " [5 5]\n",
            " [1 1]\n",
            " [6 6]\n",
            " [4 4]\n",
            " [5 5]\n",
            " [0 0]\n",
            " [9 9]\n",
            " [4 4]\n",
            " [1 1]\n",
            " [1 1]\n",
            " [7 7]\n",
            " [0 0]\n",
            " [8 8]\n",
            " [9 9]\n",
            " [0 0]\n",
            " [5 5]\n",
            " [4 4]\n",
            " [3 3]\n",
            " [8 8]\n",
            " [8 8]\n",
            " [6 6]\n",
            " [5 5]\n",
            " [3 3]\n",
            " [4 4]\n",
            " [4 4]\n",
            " [4 4]\n",
            " [8 8]\n",
            " [8 8]\n",
            " [7 7]\n",
            " [0 0]\n",
            " [9 9]\n",
            " [6 6]\n",
            " [3 3]\n",
            " [5 5]\n",
            " [2 2]\n",
            " [3 3]\n",
            " [0 0]\n",
            " [8 8]\n",
            " [8 3]\n",
            " [3 3]\n",
            " [1 1]\n",
            " [3 3]\n",
            " [3 3]\n",
            " [0 0]\n",
            " [0 0]\n",
            " [4 4]\n",
            " [6 6]\n",
            " [0 0]\n",
            " [7 7]\n",
            " [7 7]\n",
            " [6 6]\n",
            " [2 2]\n",
            " [0 0]\n",
            " [4 4]\n",
            " [4 4]\n",
            " [2 2]\n",
            " [3 3]\n",
            " [7 7]\n",
            " [1 8]\n",
            " [9 9]\n",
            " [8 8]\n",
            " [6 6]\n",
            " [8 8]\n",
            " [5 5]\n",
            " [6 6]\n",
            " [2 2]\n",
            " [2 2]\n",
            " [3 3]\n",
            " [1 1]\n",
            " [7 7]\n",
            " [7 7]\n",
            " [8 8]\n",
            " [0 0]\n",
            " [3 3]\n",
            " [3 3]\n",
            " [2 2]\n",
            " [1 1]\n",
            " [5 5]\n",
            " [5 5]\n",
            " [9 9]\n",
            " [1 1]\n",
            " [3 3]\n",
            " [7 7]\n",
            " [0 0]\n",
            " [0 0]\n",
            " [7 7]\n",
            " [0 0]\n",
            " [4 4]\n",
            " [5 5]\n",
            " [8 9]\n",
            " [9 3]\n",
            " [3 3]\n",
            " [4 4]\n",
            " [3 3]\n",
            " [1 1]\n",
            " [8 8]\n",
            " [9 9]\n",
            " [8 8]\n",
            " [3 3]\n",
            " [6 6]\n",
            " [2 2]\n",
            " [1 1]\n",
            " [6 6]\n",
            " [2 2]\n",
            " [1 1]\n",
            " [7 7]\n",
            " [5 5]\n",
            " [5 5]\n",
            " [1 1]\n",
            " [9 9]]\n"
          ],
          "name": "stdout"
        }
      ]
    },
    {
      "cell_type": "code",
      "metadata": {
        "colab": {
          "base_uri": "https://localhost:8080/"
        },
        "id": "cJh_k178sOLp",
        "outputId": "66ecc692-76f6-4170-c5f9-4158cf34a482"
      },
      "source": [
        "from sklearn.metrics import accuracy_score\n",
        "print(\"acc of model: {0}%\".format(accuracy_score(y_test,y_pred)*100))"
      ],
      "execution_count": 45,
      "outputs": [
        {
          "output_type": "stream",
          "text": [
            "acc of model: 97.11111111111111%\n"
          ],
          "name": "stdout"
        }
      ]
    },
    {
      "cell_type": "code",
      "metadata": {
        "colab": {
          "base_uri": "https://localhost:8080/"
        },
        "id": "iEV_xdIJslRz",
        "outputId": "456cd76d-cf86-4724-d4c9-7e3b896a1e94"
      },
      "source": [
        "from sklearn import svm\n",
        "model1 = svm.SVC(kernel='linear')\n",
        "model2 = svm.SVC(kernel='rbf')\n",
        "model3 = svm.SVC(gamma=0.001)\n",
        "model4 = svm.SVC(gamma=0.001,C=0.1)\n",
        "\n",
        "model1.fit(X_train,y_train)\n",
        "model2.fit(X_train,y_train)\n",
        "model3.fit(X_train,y_train)\n",
        "model4.fit(X_train,y_train)\n",
        "\n",
        "y_predModel1 = model1.predict(X_test)\n",
        "y_predModel2 = model2.predict(X_test)\n",
        "y_predModel3 = model3.predict(X_test)\n",
        "y_predModel4 = model4.predict(X_test)\n",
        "\n",
        "print(\"Accuracy of the Model 1: {0}%\".format(accuracy_score(y_test, y_predModel1)*100))\n",
        "print(\"Accuracy of the Model 2: {0}%\".format(accuracy_score(y_test, y_predModel2)*100))\n",
        "print(\"Accuracy of the Model 3: {0}%\".format(accuracy_score(y_test, y_predModel3)*100))\n",
        "print(\"Accuracy of the Model 4: {0}%\".format(accuracy_score(y_test, y_predModel4)*100))"
      ],
      "execution_count": 46,
      "outputs": [
        {
          "output_type": "stream",
          "text": [
            "Accuracy of the Model 1: 97.11111111111111%\n",
            "Accuracy of the Model 2: 99.11111111111111%\n",
            "Accuracy of the Model 3: 99.55555555555556%\n",
            "Accuracy of the Model 4: 96.66666666666667%\n"
          ],
          "name": "stdout"
        }
      ]
    },
    {
      "cell_type": "markdown",
      "metadata": {
        "id": "_-oXbJVguAxL"
      },
      "source": [
        "# tunning ***parameters***\n",
        "\n",
        "\n",
        "\n",
        "\n"
      ]
    },
    {
      "cell_type": "code",
      "metadata": {
        "colab": {
          "base_uri": "https://localhost:8080/"
        },
        "id": "WMk2AGw_tl5z",
        "outputId": "a591706c-d3da-4ea9-990c-2a2b147803d5"
      },
      "source": [
        "from sklearn import svm\n",
        "model=svm.SVC(gamma=0.001,kernel='rbf')\n",
        "model.fit(X_train,y_train)"
      ],
      "execution_count": 76,
      "outputs": [
        {
          "output_type": "execute_result",
          "data": {
            "text/plain": [
              "SVC(C=1.0, break_ties=False, cache_size=200, class_weight=None, coef0=0.0,\n",
              "    decision_function_shape='ovr', degree=5, gamma=0.001, kernel='rbf',\n",
              "    max_iter=-1, probability=False, random_state=None, shrinking=True,\n",
              "    tol=0.001, verbose=False)"
            ]
          },
          "metadata": {
            "tags": []
          },
          "execution_count": 76
        }
      ]
    },
    {
      "cell_type": "code",
      "metadata": {
        "colab": {
          "base_uri": "https://localhost:8080/"
        },
        "id": "w88iNePPuaaG",
        "outputId": "3fdcf372-bcd1-4fcb-9560-46eedce14cda"
      },
      "source": [
        "y_pred = model.predict(X_test)\n",
        "from sklearn.metrics import accuracy_score\n",
        "print(\"acc of model: {0}%\".format(accuracy_score(y_test,y_pred)*100))"
      ],
      "execution_count": 77,
      "outputs": [
        {
          "output_type": "stream",
          "text": [
            "acc of model: 99.55555555555556%\n"
          ],
          "name": "stdout"
        }
      ]
    },
    {
      "cell_type": "code",
      "metadata": {
        "id": "PDFJe_6-un6K"
      },
      "source": [
        ""
      ],
      "execution_count": null,
      "outputs": []
    }
  ]
}
